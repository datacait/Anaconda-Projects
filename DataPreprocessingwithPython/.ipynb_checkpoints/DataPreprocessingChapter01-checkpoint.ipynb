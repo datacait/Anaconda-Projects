{
 "cells": [
  {
   "cell_type": "markdown",
   "id": "98e7cdeb",
   "metadata": {},
   "source": [
    "This is a Markdown Chunk"
   ]
  },
  {
   "cell_type": "code",
   "execution_count": 2,
   "id": "d0f47551",
   "metadata": {},
   "outputs": [
    {
     "name": "stdout",
     "output_type": "stream",
     "text": [
      "Hello World! This is a Code Chunk!\n"
     ]
    }
   ],
   "source": [
    "print('Hello World! This is a Code Chunk!')"
   ]
  },
  {
   "cell_type": "code",
   "execution_count": 1,
   "id": "5258179b",
   "metadata": {},
   "outputs": [],
   "source": [
    "import numpy as np "
   ]
  },
  {
   "cell_type": "code",
   "execution_count": 3,
   "id": "7e9b3d9e",
   "metadata": {},
   "outputs": [
    {
     "data": {
      "text/plain": [
       "23.083333333333332"
      ]
     },
     "execution_count": 3,
     "metadata": {},
     "output_type": "execute_result"
    }
   ],
   "source": [
    "lst_nums = [2, 5, 7, 11, 13, 17, 23, 31, 37, 41, 43, 47]\n",
    "np.mean(lst_nums)"
   ]
  },
  {
   "cell_type": "code",
   "execution_count": 4,
   "id": "35a243c1",
   "metadata": {},
   "outputs": [
    {
     "data": {
      "text/plain": [
       "23.083333333333332"
      ]
     },
     "execution_count": 4,
     "metadata": {},
     "output_type": "execute_result"
    }
   ],
   "source": [
    "ary_nums = np.array(lst_nums)\n",
    "ary_nums.mean()"
   ]
  },
  {
   "cell_type": "code",
   "execution_count": 5,
   "id": "bdc0c241",
   "metadata": {},
   "outputs": [
    {
     "data": {
      "text/plain": [
       "list"
      ]
     },
     "execution_count": 5,
     "metadata": {},
     "output_type": "execute_result"
    }
   ],
   "source": [
    "type(lst_nums)"
   ]
  },
  {
   "cell_type": "code",
   "execution_count": 6,
   "id": "3c602c7a",
   "metadata": {
    "scrolled": true
   },
   "outputs": [
    {
     "data": {
      "text/plain": [
       "numpy.ndarray"
      ]
     },
     "execution_count": 6,
     "metadata": {},
     "output_type": "execute_result"
    }
   ],
   "source": [
    "type(ary_nums)"
   ]
  },
  {
   "cell_type": "code",
   "execution_count": 7,
   "id": "db3ac4c6",
   "metadata": {},
   "outputs": [
    {
     "data": {
      "text/plain": [
       "array([ 0,  1,  2,  3,  4,  5,  6,  7,  8,  9, 10, 11, 12, 13, 14])"
      ]
     },
     "execution_count": 7,
     "metadata": {},
     "output_type": "execute_result"
    }
   ],
   "source": [
    "np.arange(15)"
   ]
  },
  {
   "cell_type": "code",
   "execution_count": 8,
   "id": "b0ef6f7b",
   "metadata": {},
   "outputs": [
    {
     "data": {
      "text/plain": [
       "array([ 5,  6,  7,  8,  9, 10, 11, 12, 13, 14])"
      ]
     },
     "execution_count": 8,
     "metadata": {},
     "output_type": "execute_result"
    }
   ],
   "source": [
    "np.arange(5,15)"
   ]
  },
  {
   "cell_type": "code",
   "execution_count": 10,
   "id": "f765a794",
   "metadata": {},
   "outputs": [
    {
     "data": {
      "text/plain": [
       "array([-7.1, -6.1, -5.1, -4.1, -3.1, -2.1, -1.1, -0.1,  0.9,  1.9,  2.9,\n",
       "        3.9,  4.9,  5.9,  6.9])"
      ]
     },
     "execution_count": 10,
     "metadata": {},
     "output_type": "execute_result"
    }
   ],
   "source": [
    "np.arange(-7.1,7)"
   ]
  },
  {
   "cell_type": "code",
   "execution_count": 11,
   "id": "1ab5d396",
   "metadata": {},
   "outputs": [
    {
     "data": {
      "text/plain": [
       "array([[0., 0., 0., 0., 0.],\n",
       "       [0., 0., 0., 0., 0.],\n",
       "       [0., 0., 0., 0., 0.],\n",
       "       [0., 0., 0., 0., 0.]])"
      ]
     },
     "execution_count": 11,
     "metadata": {},
     "output_type": "execute_result"
    }
   ],
   "source": [
    "np.zeros([4,5])"
   ]
  },
  {
   "cell_type": "code",
   "execution_count": 12,
   "id": "49c5b4ce",
   "metadata": {},
   "outputs": [
    {
     "data": {
      "text/plain": [
       "array([1., 1., 1., 1., 1., 1., 1.])"
      ]
     },
     "execution_count": 12,
     "metadata": {},
     "output_type": "execute_result"
    }
   ],
   "source": [
    "np.ones(7)"
   ]
  },
  {
   "cell_type": "markdown",
   "id": "4e16e248",
   "metadata": {},
   "source": [
    "Given the grade data of 10 students, create a code using NumPy that calculates and reports their grade average. "
   ]
  },
  {
   "cell_type": "code",
   "execution_count": 13,
   "id": "bd4a6163",
   "metadata": {},
   "outputs": [],
   "source": [
    "Names = ['Jevon', 'Dawn', 'Kayleigh', 'Jadene', 'Kennedy', 'Kaydee', 'Ansh', 'Flynn', 'Kier', 'Clarence']\n",
    "Math_grades = [80, 50, 60, 70, 60, 100, 70, 70, 60, 70]\n",
    "Science_grades = [90, 80, 50, 50, 60, 50, 90, 70, 80, 80]\n",
    "History_grades = [60, 90, 50, 90, 100, 100, 100, 100, 90, 70]"
   ]
  },
  {
   "cell_type": "code",
   "execution_count": 14,
   "id": "8a159c5e",
   "metadata": {},
   "outputs": [
    {
     "name": "stdout",
     "output_type": "stream",
     "text": [
      "[0. 0. 0. 0. 0. 0. 0. 0. 0. 0.]\n",
      "[76.66666667 73.33333333 53.33333333 70.         73.33333333 83.33333333\n",
      " 86.66666667 80.         76.66666667 73.33333333]\n"
     ]
    }
   ],
   "source": [
    "Average_grades = np.zeros(10)\n",
    "print(Average_grades) \n",
    "\n",
    "for i, name in enumerate(Names): \n",
    "    Average_grades[i] = np.mean([Math_grades[i], Science_grades[i], History_grades[i]])\n",
    "\n",
    "print(Average_grades)"
   ]
  },
  {
   "cell_type": "code",
   "execution_count": 17,
   "id": "12b5585a",
   "metadata": {},
   "outputs": [
    {
     "name": "stdout",
     "output_type": "stream",
     "text": [
      "Average for Jevon : 76.66666666666667\n",
      "Average for Dawn : 73.33333333333333\n",
      "Average for Kayleigh : 53.333333333333336\n",
      "Average for Jadene : 70.0\n",
      "Average for Kennedy : 73.33333333333333\n",
      "Average for Kaydee : 83.33333333333333\n",
      "Average for Ansh : 86.66666666666667\n",
      "Average for Flynn : 80.0\n",
      "Average for Kier : 76.66666666666667\n",
      "Average for Clarence : 73.33333333333333\n"
     ]
    }
   ],
   "source": [
    "#better-looking version \n",
    "\n",
    "for i, name in enumerate(Names): \n",
    "    print(\"Average for {} : {}\".format(name, Average_grades[i]))"
   ]
  },
  {
   "cell_type": "code",
   "execution_count": 18,
   "id": "143d055f",
   "metadata": {
    "scrolled": true
   },
   "outputs": [
    {
     "data": {
      "text/plain": [
       "array([0.  , 0.05, 0.1 , 0.15, 0.2 , 0.25, 0.3 , 0.35, 0.4 , 0.45, 0.5 ,\n",
       "       0.55, 0.6 , 0.65, 0.7 , 0.75, 0.8 , 0.85, 0.9 , 0.95, 1.  ])"
      ]
     },
     "execution_count": 18,
     "metadata": {},
     "output_type": "execute_result"
    }
   ],
   "source": [
    "#this function returns evenly spaced numbers over a specified interval. First two inputs specify the interval, and the third shows the number of elemnts that the output will have. \n",
    "\n",
    "np.linspace(0,1,21)"
   ]
  },
  {
   "cell_type": "code",
   "execution_count": 19,
   "id": "ac3aff49",
   "metadata": {},
   "outputs": [
    {
     "data": {
      "text/plain": [
       "array([  10.,   20.,   30.,   40.,   50.,   60.,   70.,   80.,   90.,\n",
       "        100.,  110.,  120.,  130.,  140.,  150.,  160.,  170.,  180.,\n",
       "        190.,  200.,  210.,  220.,  230.,  240.,  250.,  260.,  270.,\n",
       "        280.,  290.,  300.,  310.,  320.,  330.,  340.,  350.,  360.,\n",
       "        370.,  380.,  390.,  400.,  410.,  420.,  430.,  440.,  450.,\n",
       "        460.,  470.,  480.,  490.,  500.,  510.,  520.,  530.,  540.,\n",
       "        550.,  560.,  570.,  580.,  590.,  600.,  610.,  620.,  630.,\n",
       "        640.,  650.,  660.,  670.,  680.,  690.,  700.,  710.,  720.,\n",
       "        730.,  740.,  750.,  760.,  770.,  780.,  790.,  800.,  810.,\n",
       "        820.,  830.,  840.,  850.,  860.,  870.,  880.,  890.,  900.,\n",
       "        910.,  920.,  930.,  940.,  950.,  960.,  970.,  980.,  990.,\n",
       "       1000.])"
      ]
     },
     "execution_count": 19,
     "metadata": {},
     "output_type": "execute_result"
    }
   ],
   "source": [
    "np.linspace(10, 1000, 100)"
   ]
  },
  {
   "cell_type": "markdown",
   "id": "afb4787b",
   "metadata": {},
   "source": [
    "Overview of Pandas"
   ]
  },
  {
   "cell_type": "code",
   "execution_count": null,
   "id": "fcf165da",
   "metadata": {},
   "outputs": [],
   "source": []
  }
 ],
 "metadata": {
  "kernelspec": {
   "display_name": "Python 3 (ipykernel)",
   "language": "python",
   "name": "python3"
  },
  "language_info": {
   "codemirror_mode": {
    "name": "ipython",
    "version": 3
   },
   "file_extension": ".py",
   "mimetype": "text/x-python",
   "name": "python",
   "nbconvert_exporter": "python",
   "pygments_lexer": "ipython3",
   "version": "3.9.7"
  }
 },
 "nbformat": 4,
 "nbformat_minor": 5
}
